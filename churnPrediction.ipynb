{
  "cells": [
    {
      "cell_type": "code",
      "source": [],
      "metadata": {
        "id": "WRdBtjJt05Mw"
      },
      "execution_count": null,
      "outputs": []
    }
  ],
  "metadata": {
    "colab": {
      "provenance": []
    }
  },
  "nbformat": 4,
  "nbformat_minor": 0
}